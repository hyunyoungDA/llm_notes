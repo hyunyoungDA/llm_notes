{
 "cells": [
  {
   "cell_type": "code",
   "execution_count": 1,
   "id": "239f971c",
   "metadata": {},
   "outputs": [
    {
     "name": "stderr",
     "output_type": "stream",
     "text": [
      "c:\\Users\\user\\anaconda3\\envs\\torchenv\\lib\\site-packages\\huggingface_hub\\file_download.py:144: UserWarning: `huggingface_hub` cache-system uses symlinks by default to efficiently store duplicated files but your machine does not support them in C:\\Users\\user\\.cache\\huggingface\\hub\\models--kakaocorp--kanana-nano-2.1b-base. Caching files will still work but in a degraded version that might require more space on your disk. This warning can be disabled by setting the `HF_HUB_DISABLE_SYMLINKS_WARNING` environment variable. For more details, see https://huggingface.co/docs/huggingface_hub/how-to-cache#limitations.\n",
      "To support symlinks on Windows, you either need to activate Developer Mode or to run Python as an administrator. In order to activate developer mode, see this article: https://docs.microsoft.com/en-us/windows/apps/get-started/enable-your-device-for-development\n",
      "  warnings.warn(message)\n"
     ]
    }
   ],
   "source": [
    "import torch\n",
    "from transformers import AutoModelForCausalLM, AutoTokenizer\n",
    "\n",
    "device = 'cuda' if torch.cuda.is_available() else \"cpu\"\n",
    "\n",
    "model_ckpt = 'kakaocorp/kanana-nano-2.1b-base'\n",
    "\n",
    "model = AutoModelForCausalLM.from_pretrained(\n",
    "  model_ckpt,\n",
    "  torch_dtype = torch.bfloat16,\n",
    "  trust_remote_code = True,\n",
    ").to(device)\n",
    "\n",
    "tokenizer = AutoTokenizer.from_pretrained(model_ckpt, padding_size = 'left')\n",
    "tokenizer.pad_token = tokenizer.eos_token # 문장의 종료를 나타내는 토큰: kanana에서는 128001"
   ]
  },
  {
   "cell_type": "code",
   "execution_count": null,
   "id": "c1a96621",
   "metadata": {},
   "outputs": [
    {
     "name": "stdout",
     "output_type": "stream",
     "text": [
      "{'q': '카카오는 어떤 회사야? ', 'input': '카카오는 어떤 회사야?   카카오는 IT 회사로 다양한 플랫폼을 운영하고 있어.', 'q_ids': [128000, 101436, 101436, 125301, 112700, 127798, 90759, 30, 220], 'input_ids': [128000, 101436, 101436, 125301, 112700, 127798, 90759, 30, 256, 103236, 101436, 125301, 8871, 127798, 17835, 118696, 107375, 124689, 100796, 120, 18359, 107065, 101360, 112795, 13]}\n",
      "{'q': '네이버는 어떤 기업이야? ', 'input': '네이버는 어떤 기업이야?   네이버는 검색엔진으로 시작한 국내 대표 포털 사이트야.', 'q_ids': [128000, 101886, 122273, 16969, 112700, 119864, 115242, 30, 220], 'input_ids': [128000, 101886, 122273, 16969, 112700, 119864, 115242, 30, 256, 103315, 122273, 16969, 115036, 108733, 86351, 43139, 94821, 24486, 120380, 116865, 99969, 117419, 117240, 90759, 13]}\n",
      "{'q': '삼성전자는 무슨 일을 해? ', 'input': '삼성전자는 무슨 일을 해?   삼성전자는 전자제품과 반도체를 생산하는 글로벌 기업이야.', 'q_ids': [128000, 111690, 33931, 66965, 112953, 119528, 124851, 61816, 30, 220], 'input_ids': [128000, 111690, 33931, 66965, 112953, 119528, 124851, 61816, 30, 256, 122851, 66965, 112953, 57519, 26799, 38187, 101696, 54780, 64857, 49085, 50643, 18918, 124919, 44005, 107285, 17835, 110452, 119864, 115242, 13]}\n",
      "{'q': '현대자동차는 어떤 회사야? ', 'input': '현대자동차는 어떤 회사야?   현대자동차는 자동차를 설계하고 제조하는 대기업이야.', 'q_ids': [128000, 102335, 67945, 127447, 101532, 16969, 112700, 127798, 90759, 30, 220], 'input_ids': [128000, 102335, 67945, 127447, 101532, 16969, 112700, 127798, 90759, 30, 256, 122140, 127447, 101532, 16969, 125910, 18918, 58952, 101015, 101360, 63171, 93917, 44005, 62060, 119398, 115242, 13]}\n",
      "{'q': 'LG는 어디에 강점이 있어? ', 'input': 'LG는 어디에 강점이 있어?   LG는 가전제품과 디스플레이 분야에서 기술력을 가진 기업이야.', 'q_ids': [128000, 48230, 16969, 117337, 19954, 102258, 101838, 13094, 112795, 30, 220], 'input_ids': [128000, 48230, 16969, 117337, 19954, 102258, 101838, 13094, 112795, 30, 256, 24294, 16969, 36609, 66965, 38187, 101696, 54780, 105638, 25941, 104236, 105138, 127290, 57575, 113094, 116688, 126653, 119864, 115242, 13]}\n",
      "38\n"
     ]
    }
   ],
   "source": [
    "qna_list = []\n",
    "\n",
    "with open(\"./data/company.txt\", \"r\") as f:\n",
    "  for line in f:\n",
    "    qna = line.strip().split(\"|\")\n",
    "    input_str = qna[0] + \" \" + qna[1] \n",
    "    # 각 question, input 데이터와 그것들의 인코딩 id값인 q_ids, input_ids 생성\n",
    "    item = {'q':qna[0], 'input':input_str, \"q_ids\":tokenizer.encode(qna[0]), 'input_ids':tokenizer.encode(input_str)}\n",
    "    qna_list.append(item)\n",
    "    \n",
    "max_length = max(len(item['input_ids']) for item in qna_list)\n",
    "\n",
    "for res in qna_list[:5]:\n",
    "  print(res)\n",
    "  \n",
    "print(max_length)"
   ]
  },
  {
   "cell_type": "markdown",
   "id": "0bf76440",
   "metadata": {},
   "source": [
    "### 파인튜닝 전의 응답 확인"
   ]
  },
  {
   "cell_type": "code",
   "execution_count": 7,
   "id": "c20c588b",
   "metadata": {},
   "outputs": [
    {
     "name": "stderr",
     "output_type": "stream",
     "text": [
      "The attention mask and the pad token id were not set. As a consequence, you may observe unexpected behavior. Please pass your input's `attention_mask` to obtain reliable results.\n",
      "Setting `pad_token_id` to `eos_token_id`:128001 for open-end generation.\n",
      "The attention mask is not set and cannot be inferred from input because pad token is same as eos token. As a consequence, you may observe unexpected behavior. Please pass your input's `attention_mask` to obtain reliable results.\n",
      "A decoder-only architecture is being used, but right-padding was detected! For correct generation results, please set `padding_side='left'` when initializing the tokenizer.\n"
     ]
    },
    {
     "name": "stdout",
     "output_type": "stream",
     "text": [
      "Q0: 카카오는 어떤 회사야? [서평] 1일 1페이지, 세상에서 가장 짧은 교양 수업 365\n",
      "1일 1페이지, 세상\n",
      "Q1: 네이버는 어떤 기업이야? [서평] 1일 1페이지, 세상에서 가장 짧은 교양 수업 365\n",
      "1일 1페이지, 세상\n",
      "Q2: 삼성전자는 무슨 일을 해? [서평] 1일 1페이지, 세상에서 가장 짧은 교양 수업 365\n",
      "1일 1페이지, 세상\n",
      "Q3: 현대자동차는 어떤 회사야? [서평] 1일 1페이지, 세상에서 가장 짧은 교양 수업 365\n",
      "1일 1페이지, 세상\n",
      "Q4: LG는 어디에 강점이 있어? [서평] 1일 1페이지, 세상에서 가장 짧은 교양 수업 365\n",
      "1일 1페이지, 세상\n",
      "Q5: 쿠팡은 어떤 서비스를 해? [서평] 1일 1페이지, 세상에서 가장 짧은 교양 수업 365\n",
      "1일 1페이지, 세상\n",
      "Q6: 배달의민족은 무슨 앱이야? [서평] 1일 1페이지, 세상에서 가장 짧은 교양 수업 365\n",
      "1일 1페이지, 세상\n",
      "Q7: 토스는 어떤 기능이 있어? [서평] 1일 1페이지, 세상에서 가장 짧은 교양 수업 365\n",
      "1일 1페이지, 세상\n",
      "Q8: 라인은 어떤 메신저야? [서평] 1일 1페이지, 세상에서 가장 짧은 교양 수업 365\n",
      "1일 1페이지, 세상\n",
      "Q9: 카카오뱅크는 뭐하는 곳이야? 1. 카카오뱅크는 카카오가 만든 인터넷 전문 은행입니다. 2. 카카오뱅크\n",
      "Q10: 엘지유플러스는 무슨 회사야? [서평] 1일 1페이지, 세상에서 가장 짧은 교양 수업 365\n",
      "1일 1페이지, 세상\n",
      "Q11: SK텔레콤은 어떤 기술을 개발해? [공지] [모집] 2024년 1월, 2월, 3월, 4월, 5월,\n",
      "Q12: 당근마켓은 어떤 앱이야? [서평] 1일 1페이지, 세상에서 가장 짧은 교양 수업 365\n",
      "1일 1페이지, 세상\n",
      "Q13: 직방은 무슨 서비스를 해? [서평] 1일 1페이지, 세상에서 가장 짧은 교양 수업 365\n",
      "1일 1페이지, 세상\n",
      "Q14: 뽀로로는 누구야? [서평] 1일 1페이지, 세상에서 가장 짧은 교양 수업 365\n",
      "1일 1페이지, 세상\n",
      "Q15: 무신사는 어떤 쇼핑몰이야? [서평] 1일 1페이지, 세상에서 가장 짧은 교양 수업 365\n",
      "1일 1페이지, 세상\n",
      "Q16: 브런치는 무엇을 위한 플랫폼이야? [서평] 1일 1페이지, 세상에서 가장 짧은 교양 수업 365\n",
      "1일 1페이지, 세상\n",
      "Q17: 마켓컬리는 어떤 특징이 있어? [서평] 1일 1페이지, 세상에서 가장 짧은 교양 수업 365\n",
      "1일 1페이지, 세상\n",
      "Q18: 지그재그는 어떤 앱이야? [서평] 1일 1페이지, 세상에서 가장 짧은 교양 수업 365\n",
      "1일 1페이지, 세상\n",
      "Q19: 왓챠는 무슨 서비스를 해? [서평] 1일 1페이지, 세상에서 가장 짧은 교양 수업 365\n",
      "1일 1페이지, 세상\n",
      "Q20: 너에 대해서 설명해봐[서평] 1일 1페이지, 세상에서 가장 짧은 교양 수업 365\n",
      "1일 1페이지, 세상\n",
      "Q21: 인공지능의 장점은 뭐야?[서평] 1일 1페이지, 세상에서 가장 짧은 교양 수업 365\n",
      "1일 1페이지, 세상\n",
      "Q22: IT 기업에 대해서 얘기해봐[서평] 1일 1페이지, 세상에서 가장 짧은 교양 수업 365\n",
      "1일 1페이지, 세상\n"
     ]
    }
   ],
   "source": [
    "# 질문 추출 및 질문 추가\n",
    "questions = [qna['q'] for qna in qna_list] \n",
    "questions.append(\"너에 대해서 설명해봐\")\n",
    "questions.append(\"인공지능의 장점은 뭐야?\")\n",
    "questions.append(\"IT 기업에 대해서 얘기해봐\")\n",
    "\n",
    "input_ids = tokenizer(\n",
    "  questions,\n",
    "  padding = True, # 길이 불일치시 패딩 토큰으로 채움\n",
    "  return_tensors = 'pt'\n",
    ")['input_ids'].to(device)\n",
    "\n",
    "model.eval()\n",
    "with torch.no_grad():\n",
    "  output = model.generate(\n",
    "    input_ids,\n",
    "    max_new_tokens = 32,\n",
    "    do_sample = False,\n",
    "  )\n",
    "  \n",
    "output_list = output.tolist()\n",
    "\n",
    "for i, output in enumerate(output_list):\n",
    "    print(f\"Q{i}: {tokenizer.decode(output, skip_special_tokens=True)}\")"
   ]
  },
  {
   "cell_type": "code",
   "execution_count": 20,
   "id": "4f8d1f7a",
   "metadata": {},
   "outputs": [
    {
     "name": "stdout",
     "output_type": "stream",
     "text": [
      "25\n",
      "카카오는 어떤 회사야?   카카오는 IT 회사로 다양한 플랫폼을 운영하고 있어.\n",
      "25\n",
      "네이버는 어떤 기업이야?   네이버는 검색엔진으로 시작한 국내 대표 포털 사이트야.\n",
      "30\n",
      "삼성전자는 무슨 일을 해?   삼성전자는 전자제품과 반도체를 생산하는 글로벌 기업이야.\n",
      "27\n",
      "현대자동차는 어떤 회사야?   현대자동차는 자동차를 설계하고 제조하는 대기업이야.\n",
      "30\n",
      "LG는 어디에 강점이 있어?   LG는 가전제품과 디스플레이 분야에서 기술력을 가진 기업이야.\n",
      "33\n",
      "쿠팡은 어떤 서비스를 해?   쿠팡은 빠른 로켓배송으로 유명한 온라인 쇼핑몰이야.\n",
      "33\n",
      "배달의민족은 무슨 앱이야?   배달의민족은 음식을 주문할 수 있는 배달 플랫폼이야.\n",
      "28\n",
      "토스는 어떤 기능이 있어?   토스는 송금, 투자, 보험 등 다양한 금융 서비스를 제공해.\n",
      "27\n",
      "라인은 어떤 메신저야?   라인은 일본에서 인기 있는 메신저로 네이버가 개발했어.\n",
      "33\n",
      "카카오뱅크는 뭐하는 곳이야?   카카오뱅크는 모바일 기반의 인터넷 전문 은행이야.\n",
      "34\n",
      "엘지유플러스는 무슨 회사야?   엘지유플러스는 통신과 IPTV 서비스를 제공하는 회사야.\n",
      "38\n",
      "SK텔레콤은 어떤 기술을 개발해?   SK텔레콤은 5G와 인공지능 등 첨단 통신 기술을 개발해.\n",
      "33\n",
      "당근마켓은 어떤 앱이야?   당근마켓은 지역 주민끼리 중고 물품을 거래하는 앱이야.\n",
      "28\n",
      "직방은 무슨 서비스를 해?   직방은 부동산 매물 정보를 모바일로 제공하는 서비스야.\n",
      "27\n",
      "뽀로로는 누구야?   뽀로로는 아이들에게 인기 있는 한국 애니메이션 캐릭터야.\n",
      "29\n",
      "무신사는 어떤 쇼핑몰이야?   무신사는 스트리트 패션을 중심으로 한 온라인 편집숍이야.\n",
      "35\n",
      "브런치는 무엇을 위한 플랫폼이야?   브런치는 작가들이 글을 쓰고 공유할 수 있는 플랫폼이야.\n",
      "30\n",
      "마켓컬리는 어떤 특징이 있어?   마켓컬리는 신선식품을 새벽에 배송해주는 서비스야.\n",
      "33\n",
      "지그재그는 어떤 앱이야?   지그재그는 여성 쇼핑몰 상품을 모아 보여주는 패션 앱이야.\n",
      "35\n",
      "왓챠는 무슨 서비스를 해?   왓챠는 영화와 드라마를 감상할 수 있는 스트리밍 플랫폼이야.\n"
     ]
    }
   ],
   "source": [
    "for qa in qna_list:\n",
    "  token_ids = qa['input_ids']\n",
    "  print(len(token_ids))\n",
    "  print(tokenizer.decode(token_ids[1:])) # 현재 begin_of_text 토큰이 함께 존재함 "
   ]
  },
  {
   "cell_type": "code",
   "execution_count": 19,
   "id": "216eeb65",
   "metadata": {},
   "outputs": [
    {
     "name": "stdout",
     "output_type": "stream",
     "text": [
      "9\n",
      "<|begin_of_text|>카카오는 어떤 회사야? \n",
      "9\n",
      "<|begin_of_text|>네이버는 어떤 기업이야? \n",
      "10\n",
      "<|begin_of_text|>삼성전자는 무슨 일을 해? \n",
      "11\n",
      "<|begin_of_text|>현대자동차는 어떤 회사야? \n",
      "11\n",
      "<|begin_of_text|>LG는 어디에 강점이 있어? \n",
      "12\n",
      "<|begin_of_text|>쿠팡은 어떤 서비스를 해? \n",
      "13\n",
      "<|begin_of_text|>배달의민족은 무슨 앱이야? \n",
      "9\n",
      "<|begin_of_text|>토스는 어떤 기능이 있어? \n",
      "10\n",
      "<|begin_of_text|>라인은 어떤 메신저야? \n",
      "15\n",
      "<|begin_of_text|>카카오뱅크는 뭐하는 곳이야? \n",
      "14\n",
      "<|begin_of_text|>엘지유플러스는 무슨 회사야? \n",
      "14\n",
      "<|begin_of_text|>SK텔레콤은 어떤 기술을 개발해? \n",
      "12\n",
      "<|begin_of_text|>당근마켓은 어떤 앱이야? \n",
      "10\n",
      "<|begin_of_text|>직방은 무슨 서비스를 해? \n",
      "9\n",
      "<|begin_of_text|>뽀로로는 누구야? \n",
      "11\n",
      "<|begin_of_text|>무신사는 어떤 쇼핑몰이야? \n",
      "14\n",
      "<|begin_of_text|>브런치는 무엇을 위한 플랫폼이야? \n",
      "12\n",
      "<|begin_of_text|>마켓컬리는 어떤 특징이 있어? \n",
      "12\n",
      "<|begin_of_text|>지그재그는 어떤 앱이야? \n",
      "12\n",
      "<|begin_of_text|>왓챠는 무슨 서비스를 해? \n"
     ]
    }
   ],
   "source": [
    "for qa in qna_list:\n",
    "  token_ids = qa['q_ids']\n",
    "  print(len(token_ids))\n",
    "  print(tokenizer.decode(token_ids))"
   ]
  },
  {
   "cell_type": "markdown",
   "id": "d83ff5b5",
   "metadata": {},
   "source": [
    "### 파인튜닝"
   ]
  },
  {
   "cell_type": "code",
   "execution_count": null,
   "id": "e30cb653",
   "metadata": {},
   "outputs": [],
   "source": [
    "import torch\n",
    "from torch.utils.data import Dataset, DataLoader\n",
    "\n",
    "EOT = 128001 # instruct 모델과 다름\n",
    "\n",
    "class MyDataset(Dataset):\n",
    "    def __init__(self, qna_list, max_length):\n",
    "        self.input_ids = []\n",
    "        self.target_ids = []\n",
    "\n",
    "        for qa in qna_list:\n",
    "            token_ids = qa['input_ids']\n",
    "            input_chunk = token_ids\n",
    "            # begin_of_token 제거하여 target_chunk에 저장 \n",
    "            target_chunk = token_ids[1:]\n",
    "            \n",
    "            # 뒷 부분을 end of text 토큰으로 채워줌 \n",
    "            # 전체 시퀀스를 패딩까지 포함해서 모델 입력값으로 사용 \n",
    "            input_chunk += [EOT]* (max_length - len(input_chunk))\n",
    "            target_chunk +=  [EOT]* (max_length - len(target_chunk))\n",
    "            \n",
    "            # token_ids를 저장한 input_chunk에서 \"begin_of_text\"를 제외하여 한 글자가 짧기 때문에 -1 \n",
    "            len_ignore = len(qa['q_ids']) - 1 \n",
    "            \n",
    "            # Pytorch에서 CroosEntropyLoss를 사용할 때, label의 값이 -100으로 된 부분은 loss 계산에서 무시\n",
    "            # question, 질문 부분을 -100 값으로 채워서 무시 \n",
    "            target_chunk[:len_ignore] = [-100] * len_ignore \n",
    "\n",
    "            self.input_ids.append(torch.tensor(input_chunk))\n",
    "            self.target_ids.append(torch.tensor(target_chunk))\n",
    "\n",
    "    def __len__(self):\n",
    "        return len(self.input_ids)\n",
    "\n",
    "    def __getitem__(self, idx):\n",
    "        return self.input_ids[idx], self.target_ids[idx]\n",
    "\n",
    "dataset = MyDataset(qna_list, max_length=max_length)\n",
    "\n",
    "# 현재는 데이터셋이 작아서 batch_size를 2로 설정하였지만 큰 데이터셋의 경우 16, 32 등으로 변경 \n",
    "train_loader = DataLoader(dataset, batch_size=2, shuffle=True, drop_last=False)"
   ]
  },
  {
   "cell_type": "code",
   "execution_count": 22,
   "id": "d4742e7b",
   "metadata": {},
   "outputs": [],
   "source": [
    "i = iter(train_loader)"
   ]
  },
  {
   "cell_type": "code",
   "execution_count": 23,
   "id": "fd7b1fa1",
   "metadata": {},
   "outputs": [
    {
     "name": "stdout",
     "output_type": "stream",
     "text": [
      "<|begin_of_text|>토스는 어떤 기능이 있어?   토스는 송금, 투자, 보험 등 다양한 금융 서비스를 제공해.<|end_of_text|><|end_of_text|><|end_of_text|><|end_of_text|><|end_of_text|><|end_of_text|><|end_of_text|><|end_of_text|><|end_of_text|><|end_of_text|>\n",
      " 토스는 송금, 투자, 보험 등 다양한 금융 서비스를 제공해.<|end_of_text|><|end_of_text|><|end_of_text|><|end_of_text|><|end_of_text|><|end_of_text|><|end_of_text|><|end_of_text|><|end_of_text|><|end_of_text|><|end_of_text|>\n"
     ]
    }
   ],
   "source": [
    "x, y = next(i)\n",
    "\n",
    "y_temp = y[0].tolist()\n",
    "y_temp = [x for x in y_temp if x != -100] # -100은 제외하고 디코딩\n",
    "\n",
    "print(tokenizer.decode(x[0].tolist()))\n",
    "print(tokenizer.decode(y_temp))"
   ]
  },
  {
   "cell_type": "markdown",
   "id": "e6ceab83",
   "metadata": {},
   "source": [
    "### 모델 훈련\n",
    "\n",
    "- 데이터셋이 작으므로 validation은 생략"
   ]
  },
  {
   "cell_type": "code",
   "execution_count": 24,
   "id": "5499b460",
   "metadata": {},
   "outputs": [
    {
     "name": "stdout",
     "output_type": "stream",
     "text": [
      "cuda\n"
     ]
    }
   ],
   "source": [
    "torch.manual_seed(42)\n",
    "optimizer = torch.optim.AdamW(model.parameters(), lr = 1e-6, weight_decay=0.01)\n",
    "print(device)"
   ]
  },
  {
   "cell_type": "code",
   "execution_count": 26,
   "id": "03eb93f4",
   "metadata": {},
   "outputs": [
    {
     "name": "stdout",
     "output_type": "stream",
     "text": [
      "0 Tokens seen: 76\n",
      "1 Tokens seen: 152\n",
      "2 Tokens seen: 228\n",
      "3 Tokens seen: 304\n",
      "4 Tokens seen: 380\n",
      "5 Tokens seen: 456\n",
      "6 Tokens seen: 532\n",
      "7 Tokens seen: 608\n",
      "8 Tokens seen: 684\n",
      "9 Tokens seen: 760\n",
      "Epoch: 0, Loss: 5.7484375\n",
      "10 Tokens seen: 836\n",
      "11 Tokens seen: 912\n",
      "12 Tokens seen: 988\n",
      "13 Tokens seen: 1064\n",
      "14 Tokens seen: 1140\n",
      "15 Tokens seen: 1216\n",
      "16 Tokens seen: 1292\n",
      "17 Tokens seen: 1368\n",
      "18 Tokens seen: 1444\n",
      "19 Tokens seen: 1520\n",
      "Epoch: 1, Loss: 5.56875\n",
      "20 Tokens seen: 1596\n",
      "21 Tokens seen: 1672\n",
      "22 Tokens seen: 1748\n",
      "23 Tokens seen: 1824\n",
      "24 Tokens seen: 1900\n",
      "25 Tokens seen: 1976\n",
      "26 Tokens seen: 2052\n",
      "27 Tokens seen: 2128\n",
      "28 Tokens seen: 2204\n",
      "29 Tokens seen: 2280\n",
      "Epoch: 2, Loss: 5.45\n",
      "30 Tokens seen: 2356\n",
      "31 Tokens seen: 2432\n",
      "32 Tokens seen: 2508\n",
      "33 Tokens seen: 2584\n",
      "34 Tokens seen: 2660\n",
      "35 Tokens seen: 2736\n",
      "36 Tokens seen: 2812\n",
      "37 Tokens seen: 2888\n",
      "38 Tokens seen: 2964\n",
      "39 Tokens seen: 3040\n",
      "Epoch: 3, Loss: 5.29375\n",
      "40 Tokens seen: 3116\n",
      "41 Tokens seen: 3192\n",
      "42 Tokens seen: 3268\n",
      "43 Tokens seen: 3344\n",
      "44 Tokens seen: 3420\n",
      "45 Tokens seen: 3496\n",
      "46 Tokens seen: 3572\n",
      "47 Tokens seen: 3648\n",
      "48 Tokens seen: 3724\n",
      "49 Tokens seen: 3800\n",
      "Epoch: 4, Loss: 5.1375\n",
      "50 Tokens seen: 3876\n",
      "51 Tokens seen: 3952\n",
      "52 Tokens seen: 4028\n",
      "53 Tokens seen: 4104\n",
      "54 Tokens seen: 4180\n",
      "55 Tokens seen: 4256\n",
      "56 Tokens seen: 4332\n",
      "57 Tokens seen: 4408\n",
      "58 Tokens seen: 4484\n",
      "59 Tokens seen: 4560\n",
      "Epoch: 5, Loss: 4.9703125\n",
      "60 Tokens seen: 4636\n",
      "61 Tokens seen: 4712\n",
      "62 Tokens seen: 4788\n",
      "63 Tokens seen: 4864\n",
      "64 Tokens seen: 4940\n",
      "65 Tokens seen: 5016\n",
      "66 Tokens seen: 5092\n",
      "67 Tokens seen: 5168\n",
      "68 Tokens seen: 5244\n",
      "69 Tokens seen: 5320\n",
      "Epoch: 6, Loss: 4.7265625\n",
      "70 Tokens seen: 5396\n",
      "71 Tokens seen: 5472\n",
      "72 Tokens seen: 5548\n",
      "73 Tokens seen: 5624\n",
      "74 Tokens seen: 5700\n",
      "75 Tokens seen: 5776\n",
      "76 Tokens seen: 5852\n",
      "77 Tokens seen: 5928\n",
      "78 Tokens seen: 6004\n",
      "79 Tokens seen: 6080\n",
      "Epoch: 7, Loss: 4.3375\n",
      "80 Tokens seen: 6156\n",
      "81 Tokens seen: 6232\n",
      "82 Tokens seen: 6308\n",
      "83 Tokens seen: 6384\n",
      "84 Tokens seen: 6460\n",
      "85 Tokens seen: 6536\n",
      "86 Tokens seen: 6612\n",
      "87 Tokens seen: 6688\n",
      "88 Tokens seen: 6764\n",
      "89 Tokens seen: 6840\n",
      "Epoch: 8, Loss: 3.8859375\n",
      "90 Tokens seen: 6916\n",
      "91 Tokens seen: 6992\n",
      "92 Tokens seen: 7068\n",
      "93 Tokens seen: 7144\n",
      "94 Tokens seen: 7220\n",
      "95 Tokens seen: 7296\n",
      "96 Tokens seen: 7372\n",
      "97 Tokens seen: 7448\n",
      "98 Tokens seen: 7524\n",
      "99 Tokens seen: 7600\n",
      "Epoch: 9, Loss: 3.45\n"
     ]
    }
   ],
   "source": [
    "import torch.nn.functional as F \n",
    "import torch.nn as nn\n",
    "\n",
    "tokens_seen, global_step = 0, -1\n",
    "\n",
    "losses = []\n",
    "\n",
    "for epoch in range(10):\n",
    "    model.train()  # Set model to training mode\n",
    "    \n",
    "    epoch_loss = 0\n",
    "    for input_batch, target_batch in train_loader:\n",
    "      \n",
    "        optimizer.zero_grad() \n",
    "        # 동일 장치로 변경  \n",
    "        input_batch, target_batch = input_batch.to(device), target_batch.to(device)\n",
    "\n",
    "        logits = model(input_batch).logits # 뒤에 .logits를 붙여서 tensor만 가져옴\n",
    "        \n",
    "        loss = torch.nn.functional.cross_entropy(logits.flatten(0, 1), target_batch.flatten())\n",
    "        #loss = nn.CrossEntropyLoss(logits.flatten(0, 1), target_batch.flatten())\n",
    "        epoch_loss += loss.item()\n",
    "        \n",
    "        loss.backward()\n",
    "        \n",
    "        optimizer.step() \n",
    "        \n",
    "        tokens_seen += input_batch.numel()\n",
    "        global_step += 1\n",
    "\n",
    "        print(f\"{global_step} Tokens seen: {tokens_seen}\")\n",
    "\n",
    "    avg_loss = epoch_loss / len(train_loader)\n",
    "    losses.append(avg_loss)\n",
    "    print(f\"Epoch: {epoch}, Loss: {avg_loss}\")\n",
    "    torch.save(model.state_dict(), \"model_\" + str(epoch).zfill(3) + \".pth\")"
   ]
  },
  {
   "cell_type": "code",
   "execution_count": 27,
   "id": "ecfefbab",
   "metadata": {},
   "outputs": [
    {
     "data": {
      "image/png": "[encoded data removed]",
      "text/plain": [
       "<Figure size 640x480 with 1 Axes>"
      ]
     },
     "metadata": {},
     "output_type": "display_data"
    }
   ],
   "source": [
    "import matplotlib.pyplot as plt\n",
    "\n",
    "plt.plot(losses)\n",
    "plt.xlabel('Epoch')\n",
    "plt.ylabel('Loss')\n",
    "plt.title('Training Loss Over Epochs')\n",
    "plt.show()"
   ]
  },
  {
   "cell_type": "markdown",
   "id": "a1415b96",
   "metadata": {},
   "source": [
    "### 모델 결과 확인"
   ]
  },
  {
   "cell_type": "code",
   "execution_count": 28,
   "id": "01bc2921",
   "metadata": {},
   "outputs": [
    {
     "data": {
      "text/plain": [
       "LlamaForCausalLM(\n",
       "  (model): LlamaModel(\n",
       "    (embed_tokens): Embedding(128256, 1792)\n",
       "    (layers): ModuleList(\n",
       "      (0-31): 32 x LlamaDecoderLayer(\n",
       "        (self_attn): LlamaAttention(\n",
       "          (q_proj): Linear(in_features=1792, out_features=3072, bias=False)\n",
       "          (k_proj): Linear(in_features=1792, out_features=1024, bias=False)\n",
       "          (v_proj): Linear(in_features=1792, out_features=1024, bias=False)\n",
       "          (o_proj): Linear(in_features=3072, out_features=1792, bias=False)\n",
       "        )\n",
       "        (mlp): LlamaMLP(\n",
       "          (gate_proj): Linear(in_features=1792, out_features=8064, bias=False)\n",
       "          (up_proj): Linear(in_features=1792, out_features=8064, bias=False)\n",
       "          (down_proj): Linear(in_features=8064, out_features=1792, bias=False)\n",
       "          (act_fn): SiLU()\n",
       "        )\n",
       "        (input_layernorm): LlamaRMSNorm((1792,), eps=1e-05)\n",
       "        (post_attention_layernorm): LlamaRMSNorm((1792,), eps=1e-05)\n",
       "      )\n",
       "    )\n",
       "    (norm): LlamaRMSNorm((1792,), eps=1e-05)\n",
       "    (rotary_emb): LlamaRotaryEmbedding()\n",
       "  )\n",
       "  (lm_head): Linear(in_features=1792, out_features=128256, bias=False)\n",
       ")"
      ]
     },
     "execution_count": 28,
     "metadata": {},
     "output_type": "execute_result"
    }
   ],
   "source": [
    "# 파인튜닝 후에 어떻게 응답하는지 확인\n",
    "model.load_state_dict(torch.load(\"model_009.pth\", map_location=device, weights_only=True))\n",
    "model.eval()"
   ]
  },
  {
   "cell_type": "code",
   "execution_count": 29,
   "id": "0090505f",
   "metadata": {},
   "outputs": [
    {
     "name": "stdout",
     "output_type": "stream",
     "text": [
      "Q0: 카카오는 어떤 회사야?  카카오는 대한민국의 대표적인 IT 기업으로, 메신저 서비스인 카카오톡을 비롯하여 다양한 서비스를 제공하고 있습니다\n",
      "Q1: 네이버는 어떤 기업이야?  네이버는 대한민국의 대표적인 인터넷 기업으로, 다양한 서비스와 플랫폼을 제공하고 있습니다. 네이버는 검색 엔진, 포털\n",
      "Q2: 삼성전자는 무슨 일을 해? 1. 삼성전자는 반도체를 만드는 회사야. 2. 삼성전자는 휴대폰을 만드는 회사야. 3.\n",
      "Q3: 현대자동차는 어떤 회사야?  현대자동차는 대한민국의 대표적인 자동차 제조업체로, 1967년에 설립되었습니다. 현대자동차는 자동차 산업에서 세계\n",
      "Q4: LG는 어디에 강점이 있어?  LG는 전자제품을 만드는 회사야.  LG는 전자제품을 만드는 회사야.  LG는 전자제품\n",
      "Q5: 쿠팡은 어떤 서비스를 해? 1. 쿠팡은 온라인 쇼핑몰이야. 2. 쿠팡은 온라인 쇼핑몰이면서 배달도\n",
      "Q6: 배달의민족은 무슨 앱이야?  배달의민족은 음식 배달을 위한 앱이야.\n",
      "Q7: 토스는 어떤 기능이 있어?  토스는 간편송금, 송금, 계좌이체, 이체, 송금, 송금, 송금, 송금, 송금\n",
      "Q8: 라인은 어떤 메신저야? 1. 라인은 일본의 메신저야. 2. 라인은 한국의 메신저야. 3. 라인은 미국의 메신\n",
      "Q9: 카카오뱅크는 뭐하는 곳이야?  카카오뱅크는 카카오가 만든 인터넷 전문 은행이야.  카카오뱅크는 카카오\n",
      "Q10: 엘지유플러스는 무슨 회사야?  엘지유플러스는 통신 서비스를 제공하는 회사야.\n",
      "Q11: SK텔레콤은 어떤 기술을 개발해?  SK텔레콤은 5G 기술을 개발하고 있어. 5G는 4G보다 더 빠른 속도로 데이터를 전송\n",
      "Q12: 당근마켓은 어떤 앱이야?  당근마켓은 중고거래를 할 수 있는 앱이야.  당근마켓은 지역 기반의 중고거래 플랫폼\n",
      "Q13: 직방은 무슨 서비스를 해?  직방은 부동산 중개 플랫폼이야.  부동산을 사고팔 때 필요한 정보를 제공해.  예를\n",
      "Q14: 뽀로로는 누구야? 1. 뽀로로의 탄생 뽀로로는 1997년 11월 11일, 한국의 애니메이션 제작사\n",
      "Q15: 무신사는 어떤 쇼핑몰이야?  무신사는 패션과 액세서리, 신발 등을 판매하는 온라인 쇼핑몰이야.\n",
      "Q16: 브런치는 무엇을 위한 플랫폼이야?  브런치는 글을 쓰는 사람들을 위한 플랫폼이야.  브런치의 글은 어떻게 써?  브런치의\n",
      "Q17: 마켓컬리는 어떤 특징이 있어?  마켓컬리는 새벽배송을 통해 신선한 식재료를 제공하는 온라인 식품 유통업체야.  마켓컬리는\n",
      "Q18: 지그재그는 어떤 앱이야?  지그재그는 패션 앱이야. 패션에 관심이 많은 사람들은 지그재그를 많이 사용해. 지그재그\n",
      "Q19: 왓챠는 무슨 서비스를 해?  왓챠는 영화, 드라마, 예능, 다큐멘터리 등 다양한 콘텐츠를 제공하는 스트리밍 서비스야\n",
      "Q20: 카카오는 어떤 회사야?\n",
      "Q21: 대기업에 대해서 얘기해봐요\n",
      "대기업에 대해서 얘기해봐요 대기업은 현대 사회에서 매우 중요한 역할을 수행하는 기업입니다. 대기업은 규모\n",
      "Q22: 카나나 모델에 대해서 설명해봐.\n",
      "Q23: 이처럼 인간처럼 생각하고 행동하는 AI 모델은 2023년 1월 1일부터 2023년 12월 31일까지의 데이터를 기반으로 학습되었습니다.\n",
      "Q24: 인공지능의 장점은 무엇인가요?\n",
      "인공지능의 장점은 무엇인가요? 인공지능은 인간의 지능을 모방하여 문제를 해결하고 의\n"
     ]
    }
   ],
   "source": [
    "questions = [ qna['q'] for qna in qna_list]\n",
    "questions.append(\"카카오는 어떤 회사야?\")\n",
    "questions.append(\"대기업에 대해서 얘기해봐\")\n",
    "questions.append(\"카나나 모델에 대해서 설명해봐.\")\n",
    "questions.append(\"이처럼 인간처럼 생각하고 행동하는 AI 모델은 \")\n",
    "questions.append(\"인공지능의 장점은\")\n",
    "\n",
    "for i, q in enumerate(questions):\n",
    "\n",
    "    input_ids = tokenizer(\n",
    "        q,\n",
    "        padding=True,\n",
    "        return_tensors=\"pt\",\n",
    "    )[\"input_ids\"].to(\"cuda\")\n",
    "\n",
    "    # print(type(model))\n",
    "\n",
    "    model.eval()\n",
    "    with torch.no_grad():\n",
    "        output = model.generate(\n",
    "            input_ids,\n",
    "            max_new_tokens=32,\n",
    "            attention_mask = (input_ids != 0).long(),\n",
    "            pad_token_id=tokenizer.eos_token_id,\n",
    "            do_sample=False,\n",
    "            # temperature=1.2,\n",
    "            # top_k=5\n",
    "        )\n",
    "\n",
    "    output_list = output.tolist()\n",
    "\n",
    "    print(f\"Q{i}: {tokenizer.decode(output[0], skip_special_tokens=True)}\")"
   ]
  },
  {
   "cell_type": "code",
   "execution_count": null,
   "id": "294acba4",
   "metadata": {},
   "outputs": [],
   "source": []
  }
 ],
 "metadata": {
  "kernelspec": {
   "display_name": "torchenv",
   "language": "python",
   "name": "python3"
  },
  "language_info": {
   "codemirror_mode": {
    "name": "ipython",
    "version": 3
   },
   "file_extension": ".py",
   "mimetype": "text/x-python",
   "name": "python",
   "nbconvert_exporter": "python",
   "pygments_lexer": "ipython3",
   "version": "3.9.21"
  }
 },
 "nbformat": 4,
 "nbformat_minor": 5
}
