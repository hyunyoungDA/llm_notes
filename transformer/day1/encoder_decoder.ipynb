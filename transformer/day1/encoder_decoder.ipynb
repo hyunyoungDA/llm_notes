{
 "cells": [
  {
   "cell_type": "markdown",
   "id": "d9962efa",
   "metadata": {},
   "source": [
    "## 토큰화 "
   ]
  },
  {
   "cell_type": "code",
   "execution_count": 2,
   "id": "a3cf3f66",
   "metadata": {},
   "outputs": [
    {
     "name": "stdout",
     "output_type": "stream",
     "text": [
      "input_text_list:  ['바다', '코끼리는', '바다에', '살', '수', '있도록', '진화한', '코끼리이다.']\n",
      "str2idx:  {'바다': 0, '코끼리는': 1, '바다에': 2, '살': 3, '수': 4, '있도록': 5, '진화한': 6, '코끼리이다.': 7}\n",
      "idx2str:  {0: '바다', 1: '코끼리는', 2: '바다에', 3: '살', 4: '수', 5: '있도록', 6: '진화한', 7: '코끼리이다.'}\n",
      "input_ids:  [0, 1, 2, 3, 4, 5, 6, 7]\n"
     ]
    }
   ],
   "source": [
    "input_text = \"바다 코끼리는 바다에 살 수 있도록 진화한 코끼리이다.\"\n",
    "\n",
    "input_text_list = input_text.split()\n",
    "print(\"input_text_list: \", input_text_list)\n",
    "\n",
    "# 토큰 -> 아이디 딕셔너리와 아이디 -> 토큰 딕셔너리 만들기\n",
    "str2idx = {word:idx for idx, word in enumerate(input_text_list)}\n",
    "idx2str = {idx:word for idx, word in enumerate(input_text_list)}\n",
    "print(\"str2idx: \", str2idx)\n",
    "print(\"idx2str: \", idx2str)\n",
    "\n",
    "# 토큰을 토큰 아이디로 변환\n",
    "input_ids = [str2idx[word] for word in input_text_list]\n",
    "print(\"input_ids: \", input_ids)"
   ]
  },
  {
   "cell_type": "markdown",
   "id": "fde50bbb",
   "metadata": {},
   "source": [
    "## 토큰화 -> 임베딩"
   ]
  },
  {
   "cell_type": "code",
   "execution_count": 3,
   "id": "499448ee",
   "metadata": {},
   "outputs": [
    {
     "data": {
      "text/plain": [
       "torch.Size([1, 8, 16])"
      ]
     },
     "execution_count": 3,
     "metadata": {},
     "output_type": "execute_result"
    }
   ],
   "source": [
    "import torch\n",
    "import torch.nn as nn\n",
    "\n",
    "embedding_dim = 16\n",
    "embed_layer = nn.Embedding(len(str2idx), embedding_dim)\n",
    "\n",
    "# 이때 tensor로 감싼 후 처리 \n",
    "input_embeddings = embed_layer(torch.tensor(input_ids))\n",
    "# 딥러닝 프레임워크는 보통 가장 첫 번째 요소를 \"배치 차원\"으로 기대하므로, unsqueeze(0)을 통해 크기가 1인 차원을 하나 추가\n",
    "input_embeddings = input_embeddings.unsqueeze(0)\n",
    "input_embeddings.shape"
   ]
  },
  {
   "cell_type": "markdown",
   "id": "0d3eecde",
   "metadata": {},
   "source": [
    "## 위치 인코딩 \n",
    "- Transformer는 RNN과는 다르게 전체 Sequence를 입력으로 받으므로, 각 토큰의 위치 정보를 추가로 저장해야됨"
   ]
  },
  {
   "cell_type": "code",
   "execution_count": 5,
   "id": "b4015bd2",
   "metadata": {},
   "outputs": [
    {
     "data": {
      "text/plain": [
       "torch.Size([1, 8, 16])"
      ]
     },
     "execution_count": 5,
     "metadata": {},
     "output_type": "execute_result"
    }
   ],
   "source": [
    "embedding_dim = 16\n",
    "max_position = 12 # 최대 토큰의 길이\n",
    "\n",
    "embed_layer = nn.Embedding(len(str2idx), embedding_dim)\n",
    "position_embed_layer = nn.Embedding(max_position, embedding_dim) \n",
    "# input_ids의 길이만큼 position_ids를 생성 \n",
    "position_ids = torch.arange(len(input_ids), dtype = torch.long).unsqueeze(0)\n",
    "position_encodings = position_embed_layer(position_ids)\n",
    "\n",
    "token_embeddings = embed_layer(torch.tensor(input_ids)).unsqueeze(0)\n",
    "\n",
    "input_embeddings = token_embeddings + position_encodings\n",
    "input_embeddings.shape"
   ]
  },
  {
   "cell_type": "markdown",
   "id": "e0adf208",
   "metadata": {},
   "source": [
    "## Query, Key, Value 벡터 만들기\n",
    "- 선형층을 통해 쿼리, 키, 값 벡터 생성"
   ]
  },
  {
   "cell_type": "code",
   "execution_count": null,
   "id": "fef8709c",
   "metadata": {},
   "outputs": [
    {
     "data": {
      "text/plain": [
       "(torch.Size([1, 8, 16]), torch.Size([1, 8, 16]), torch.Size([1, 8, 16]))"
      ]
     },
     "execution_count": 6,
     "metadata": {},
     "output_type": "execute_result"
    }
   ],
   "source": [
    "head_dim = 16\n",
    "\n",
    "# 벡터 생성 \n",
    "weight_q = nn.Linear(embedding_dim, head_dim)\n",
    "weight_k = nn.Linear(embedding_dim, head_dim)\n",
    "weight_v = nn.Linear(embedding_dim, head_dim)\n",
    "\n",
    "# 변환 수행\n",
    "querys = weight_q(input_embeddings) # torch.Size([1, 8, 16])\n",
    "keys = weight_k(input_embeddings) \n",
    "values = weight_v(input_embeddings)\n",
    "\n",
    "querys.shape, keys.shape, values.shape"
   ]
  },
  {
   "cell_type": "markdown",
   "id": "cd4c6def",
   "metadata": {},
   "source": [
    "## Scaled dot Attention"
   ]
  },
  {
   "cell_type": "code",
   "execution_count": 7,
   "id": "08b64e71",
   "metadata": {},
   "outputs": [
    {
     "name": "stdout",
     "output_type": "stream",
     "text": [
      "원본 입력 형태:  torch.Size([1, 8, 16])\n",
      "어텐션 적용 후 형태:  torch.Size([1, 8, 16])\n"
     ]
    }
   ],
   "source": [
    "from math import sqrt\n",
    "import torch.nn.functional as F\n",
    "\n",
    "def compute_attention(querys, keys, values, is_casual = False):\n",
    "  dim_k = querys.size(-1) # 16 -> dim_k로 스케일링하기 위해 추출\n",
    "  scores = querys @ keys.transpose(-2,-1) / sqrt(dim_k)\n",
    "  weights = F.softmax(scores, dim = -1) # 가장 마지막 차원을 기준으로 연산 \n",
    "  return weights @ values\n",
    "\n",
    "print(\"원본 입력 형태: \", input_embeddings.shape)\n",
    "\n",
    "after_attention_embeddings = compute_attention(querys, keys, values)\n",
    "\n",
    "print(\"어텐션 적용 후 형태: \", after_attention_embeddings.shape)"
   ]
  },
  {
   "cell_type": "markdown",
   "id": "40a4ba8d",
   "metadata": {},
   "source": [
    "## AttentionHead 클래스"
   ]
  },
  {
   "cell_type": "code",
   "execution_count": null,
   "id": "8779441b",
   "metadata": {},
   "outputs": [
    {
     "data": {
      "text/plain": [
       "torch.Size([1, 8, 16])"
      ]
     },
     "execution_count": 9,
     "metadata": {},
     "output_type": "execute_result"
    }
   ],
   "source": [
    "class AttentionHead(nn.Module):\n",
    "  def __init__(self, token_embed_dim, head_dim, is_casual = False):\n",
    "    super().__init__()\n",
    "    self.is_casual = is_casual\n",
    "    # query, key, value 벡터 생성 위한 선형 층 \n",
    "    self.weight_q = nn.Linear(token_embed_dim, head_dim)\n",
    "    self.weight_k = nn.Linear(token_embed_dim, head_dim)\n",
    "    self.weight_v = nn.Linear(token_embed_dim, head_dim)\n",
    "    \n",
    "  def forward(self, querys, keys, values) -> torch.Tensor:\n",
    "    outputs = compute_attention(\n",
    "      self.weight_q(querys),\n",
    "      self.weight_k(keys),\n",
    "      self.weight_v(values),\n",
    "      is_casual=self.is_casual\n",
    "    )\n",
    "    \n",
    "    return outputs\n",
    "    \n",
    "attention_head = AttentionHead(embedding_dim, embedding_dim)\n",
    "# input_embeddings로 query, key, value값 모두 동일 -> self-attention \n",
    "after_attention_embeddings = attention_head(input_embeddings, input_embeddings, input_embeddings)\n",
    "\n",
    "after_attention_embeddings.shape"
   ]
  },
  {
   "cell_type": "markdown",
   "id": "45e4c145",
   "metadata": {},
   "source": [
    "## MultiheadAttention"
   ]
  },
  {
   "cell_type": "code",
   "execution_count": null,
   "id": "cfd44ed1",
   "metadata": {},
   "outputs": [
    {
     "data": {
      "text/plain": [
       "torch.Size([1, 8, 16])"
      ]
     },
     "execution_count": 15,
     "metadata": {},
     "output_type": "execute_result"
    }
   ],
   "source": [
    "class MultiheadAttention(nn.Module):\n",
    "  def __init__(self, token_embed_dim, d_model, nhead, is_causal = False):\n",
    "    super().__init__()\n",
    "    self.nhead = nhead\n",
    "    self.is_causal = is_causal\n",
    "    self.weight_q = nn.Linear(token_embed_dim, d_model) # 입력한 토큰에 대한 임베딩 차원과 모델 은닉 차원 \n",
    "    self.weight_k = nn.Linear(token_embed_dim, d_model)\n",
    "    self.weight_v = nn.Linear(token_embed_dim, d_model)\n",
    "    # 어텐션 헤드의 출력들을 하나로 합친 후에 최종 출력 변환 \n",
    "    self.concat_linear = nn.Linear(d_model, d_model)\n",
    "    \n",
    "  def forward(self, querys, keys, values) -> torch.Tensor:\n",
    "    B, T, C = querys.size() # B: 배치 차원, T: 토큰, C: 임베딩 차원\n",
    "    \n",
    "    # 멀티헤드 어텐션이므로, 차원 분할\n",
    "    # C차원이던 벡터를 nhead개의 헤드로 나누어서 연산, 계산 후에 view를 통해 재배열 \n",
    "    querys = self.weight_q(querys).view(B, T, self.nhead, C // self.nhead).transpose(1,2)\n",
    "    keys = self.weight_k(keys).view(B, T, self.nhead, C // self.nhead).transpose(1, 2)\n",
    "    values = self.weight_v(values).view(B, T, self.nhead, C // self.nhead).transpose(1, 2)\n",
    "    # view -> [B, T, nhead, head_dim]\n",
    "    # transpose(1,2) -> [B, nhead, T, head_dim]\n",
    "    \n",
    "    attention = compute_attention(querys, keys, values, self.is_causal)\n",
    "    output = attention.transpose(1, 2).contiguous().view(B, T, C)\n",
    "    output = self.concat_linear(output)\n",
    "    return output\n",
    "  \n",
    "nhead = 4\n",
    "mh_attention = MultiheadAttention(embedding_dim, embedding_dim, nhead)\n",
    "after_attention_embeddings = mh_attention(input_embeddings, input_embeddings, input_embeddings)\n",
    "after_attention_embeddings.shape"
   ]
  },
  {
   "cell_type": "markdown",
   "id": "7843315f",
   "metadata": {},
   "source": [
    "## Layer Normalization & FeedForward Layer"
   ]
  },
  {
   "cell_type": "code",
   "execution_count": 24,
   "id": "56896be9",
   "metadata": {},
   "outputs": [
    {
     "data": {
      "text/plain": [
       "(tensor([[-1.4901e-08, -1.4901e-08,  0.0000e+00,  2.2352e-08, -1.4901e-08,\n",
       "           3.3528e-08, -2.9802e-08,  1.4901e-08]]),\n",
       " tensor([[1.0328, 1.0328, 1.0328, 1.0328, 1.0328, 1.0328, 1.0328, 1.0328]]))"
      ]
     },
     "execution_count": 24,
     "metadata": {},
     "output_type": "execute_result"
    }
   ],
   "source": [
    "norm = nn.LayerNorm(embedding_dim)\n",
    "norm_x = norm(input_embeddings)\n",
    "norm_x.shape # torch.Size([1, 5, 16])\n",
    "\n",
    "norm_x.mean(dim=-1).data, norm_x.std(dim=-1).data"
   ]
  },
  {
   "cell_type": "code",
   "execution_count": 26,
   "id": "0ea07dfe",
   "metadata": {},
   "outputs": [],
   "source": [
    "class PreLayerNormFeedForward(nn.Module):\n",
    "  def __init__(self, d_model, dim_feedforward, dropout):\n",
    "    super().__init__()\n",
    "    self.linear1 = nn.Linear(d_model, dim_feedforward) # 선형 층 1\n",
    "    self.linear2 = nn.Linear(dim_feedforward, d_model) # 선형 층 2\n",
    "    self.dropout1 = nn.Dropout(dropout) # 드랍아웃 층 1\n",
    "    self.dropout2 = nn.Dropout(dropout) # 드랍아웃 층 2\n",
    "    self.activation = nn.GELU() # 활성 함수\n",
    "    self.norm = nn.LayerNorm(d_model) # 층 정규화\n",
    "\n",
    "  def forward(self, src):\n",
    "    x = self.norm(src)\n",
    "    x = x + self.linear2(self.dropout1(self.activation(self.linear1(x))))\n",
    "    x = self.dropout2(x)\n",
    "    return x"
   ]
  },
  {
   "cell_type": "markdown",
   "id": "8863f00f",
   "metadata": {},
   "source": [
    "## Transformer Encoder Layer"
   ]
  },
  {
   "cell_type": "code",
   "execution_count": 27,
   "id": "eeeb73bb",
   "metadata": {},
   "outputs": [],
   "source": [
    "class TransformerEncoder(nn.Module):\n",
    "  def __init__(self, d_model, nhead, dim_feedforward, dropout):\n",
    "    super().__init__()\n",
    "    self.attn = MultiheadAttention(d_model, d_model, nhead)\n",
    "    self.norm1 = nn.LayerNorm(d_model) \n",
    "    self.dropout1 = nn.Dropout(dropout) # 여기서 dropout의 비율은 이미 정의됨 \n",
    "    self.feed_forward = PreLayerNormFeedForward(d_model, dim_feedforward, dropout)\n",
    "  \n",
    "  # 입력 src \n",
    "  def forward(self, src) -> torch.Tensor:\n",
    "    norm_x = self.norm1(src)\n",
    "    # query, key, value\n",
    "    attn_output = self.attn(norm_x, norm_x, norm_x)\n",
    "    # 잔차 연결, 입력 값 src에 어텐션 + 드롭아웃에 통과시킨 후 그 출력\n",
    "    x = src + self.dropout1(attn_output) \n",
    "    \n",
    "    # 피드 포워드\n",
    "    x = self.feed_forward(x)\n",
    "    return x"
   ]
  },
  {
   "cell_type": "markdown",
   "id": "b5fc8d60",
   "metadata": {},
   "source": [
    "## Encoder"
   ]
  },
  {
   "cell_type": "code",
   "execution_count": null,
   "id": "32c5ea90",
   "metadata": {},
   "outputs": [],
   "source": [
    "import copy\n",
    "\n",
    "# 인코더 레이어 클론 함수  \n",
    "def get_clones(module, N):\n",
    "  return nn.ModuleList([copy.deepcopy(module) for i in range(N)])\n",
    "\n",
    "class TransformerEncoder(nn.Module):\n",
    "  def __init__(self, encoder_layer, num_layers):\n",
    "    super().__init__()\n",
    "    self.layers = get_clones(encoder_layer, num_layers)\n",
    "    self.num_layers = num_layers\n",
    "    self.norm = norm\n",
    "\n",
    "  def forward(self, src):\n",
    "    output = src\n",
    "    for mod in self.layers:\n",
    "        output = mod(output)\n",
    "    return output"
   ]
  },
  {
   "cell_type": "markdown",
   "id": "cc1cbd89",
   "metadata": {},
   "source": [
    "## Attention in Decoder"
   ]
  },
  {
   "cell_type": "code",
   "execution_count": 28,
   "id": "5a732806",
   "metadata": {},
   "outputs": [],
   "source": [
    "def compute_attention(querys, keys, values, is_causal=False):\n",
    "\tdim_k = querys.size(-1) # 16\n",
    "\tscores = querys @ keys.transpose(-2, -1) / sqrt(dim_k)\n",
    "  # causal model or AR인 경우 \n",
    "\tif is_causal:\n",
    "\t\tquery_length = querys.size(2)\n",
    "\t\tkey_length = keys.size(2)\n",
    "    # torch.ones로 모두 1인 행렬을 만든 후에, tril 메서드를 통해 대각선 아래 부분만 1로 유지되는 역삼각행렬 생성 \n",
    "    # diahonal은 기준선 포함  \n",
    "\t\ttemp_mask = torch.ones(query_length, key_length, dtype=torch.bool).tril(diagonal=0)\n",
    "    # temp_mask가 False, 즉 행렬값이 0인 부분은 음의 무한대로 \n",
    "    # softmax 연산 시, 값이 클 수록 softmax의 값이 크므로 음의 무한대 값은 0으로 처리된다. -> mask됨\n",
    "\t\tscores = scores.masked_fill(temp_mask == False, float(\"-inf\"))\n",
    "\tweights = F.softmax(scores, dim=-1) \n",
    "\treturn weights @ values "
   ]
  },
  {
   "cell_type": "markdown",
   "id": "19f4f651",
   "metadata": {},
   "source": [
    "## Cross Attention Decoder"
   ]
  },
  {
   "cell_type": "code",
   "execution_count": 31,
   "id": "7a7f5bd6",
   "metadata": {},
   "outputs": [],
   "source": [
    "class TransformerDecoderLayer(nn.Module):\n",
    "  def __init__(self, d_model, nhead, dim_feedforward=2048, dropout=0.1):\n",
    "    super().__init__()\n",
    "    # self-attention과 디코더에는 cross-attention이 있으므로 따로 정의 \n",
    "    self.self_attn = MultiheadAttention(d_model, d_model, nhead)\n",
    "    self.multihead_attn = MultiheadAttention(d_model, d_model, nhead)\n",
    "    self.feed_forward = PreLayerNormFeedForward(d_model, dim_feedforward, dropout)\n",
    "\n",
    "    self.norm1 = nn.LayerNorm(d_model)\n",
    "    self.norm2 = nn.LayerNorm(d_model)\n",
    "    self.dropout1 = nn.Dropout(dropout)\n",
    "    self.dropout2 = nn.Dropout(dropout)\n",
    "\n",
    "  def forward(self, tgt, encoder_output, is_causal=True):\n",
    "    # 셀프 어텐션 연산\n",
    "    x = self.norm1(tgt)\n",
    "    x = x + self.dropout1(self.self_attn(x, x, x, is_causal=is_causal))\n",
    "    # 크로스 어텐션 연산\n",
    "    x = self.norm2(x)\n",
    "    x = x + self.dropout2(self.multihead_attn(x, encoder_output, encoder_output))\n",
    "    # 피드 포워드 연산\n",
    "    x = self.feed_forward(x)\n",
    "    return x"
   ]
  },
  {
   "cell_type": "code",
   "execution_count": 32,
   "id": "df2a1c86",
   "metadata": {},
   "outputs": [],
   "source": [
    "import copy\n",
    "def get_clones(module, N):\n",
    "  return nn.ModuleList([copy.deepcopy(module) for i in range(N)])\n",
    "\n",
    "class TransformerDecoder(nn.Module):\n",
    "  def __init__(self, decoder_layer, num_layers):\n",
    "    super().__init__()\n",
    "    self.layers = get_clones(decoder_layer, num_layers)\n",
    "    self.num_layers = num_layers\n",
    "\n",
    "  def forward(self, tgt, src):\n",
    "    output = tgt\n",
    "    for mod in self.layers:\n",
    "        output = mod(output, src)\n",
    "    return output"
   ]
  }
 ],
 "metadata": {
  "kernelspec": {
   "display_name": "torchenv",
   "language": "python",
   "name": "python3"
  },
  "language_info": {
   "codemirror_mode": {
    "name": "ipython",
    "version": 3
   },
   "file_extension": ".py",
   "mimetype": "text/x-python",
   "name": "python",
   "nbconvert_exporter": "python",
   "pygments_lexer": "ipython3",
   "version": "3.9.21"
  }
 },
 "nbformat": 4,
 "nbformat_minor": 5
}
