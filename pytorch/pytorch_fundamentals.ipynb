{
 "cells": [
  {
   "cell_type": "markdown",
   "id": "38155cf0",
   "metadata": {},
   "source": [
    "## Tensor\n",
    "\n",
    "텐서는 `NumPy`의 `ndarray`와 유사하지만, GPU나 다른 하드웨어 가속기에서 실행될 수 있다는 점이 다름."
   ]
  },
  {
   "cell_type": "code",
   "execution_count": 2,
   "id": "37019b8a",
   "metadata": {},
   "outputs": [],
   "source": [
    "import torch\n",
    "import numpy as np"
   ]
  },
  {
   "cell_type": "markdown",
   "id": "67dd7e55",
   "metadata": {},
   "source": [
    "### 텐서 생성"
   ]
  },
  {
   "cell_type": "code",
   "execution_count": 8,
   "id": "723da966",
   "metadata": {},
   "outputs": [
    {
     "data": {
      "text/plain": [
       "(tensor(7), torch.int64)"
      ]
     },
     "execution_count": 8,
     "metadata": {},
     "output_type": "execute_result"
    }
   ],
   "source": [
    "# torch.tensor는 input값을 복제하여 Tensor를 만드는 것이므로 \n",
    "# 입력 값이 무조건 있어야됨\n",
    "scalar = torch.tensor(7)\n",
    "scalar, scalar.dtype"
   ]
  },
  {
   "cell_type": "code",
   "execution_count": 4,
   "id": "2f4d7cd8",
   "metadata": {},
   "outputs": [
    {
     "data": {
      "text/plain": [
       "tensor([])"
      ]
     },
     "execution_count": 4,
     "metadata": {},
     "output_type": "execute_result"
    }
   ],
   "source": [
    "x_data1 = torch.Tensor()\n",
    "x_data1"
   ]
  },
  {
   "cell_type": "markdown",
   "id": "6658e7f5",
   "metadata": {},
   "source": [
    "### 텐서 속성"
   ]
  },
  {
   "cell_type": "code",
   "execution_count": 9,
   "id": "30d0cbd1",
   "metadata": {},
   "outputs": [
    {
     "name": "stdout",
     "output_type": "stream",
     "text": [
      "Shape of scala: torch.Size([])\n",
      "Datatype of scala: torch.int64\n",
      "Device scala is stored on:cpu\n",
      "dimentions: 0\n"
     ]
    }
   ],
   "source": [
    "print(f\"Shape of scala: {scalar.shape}\")\n",
    "print(f\"Datatype of scala: {scalar.dtype}\")\n",
    "print(f\"Device scala is stored on:{scalar.device}\")\n",
    "print(f\"dimentions: {scalar.ndim}\")"
   ]
  },
  {
   "cell_type": "code",
   "execution_count": 10,
   "id": "24856d5a",
   "metadata": {},
   "outputs": [
    {
     "data": {
      "text/plain": [
       "tensor([7, 7])"
      ]
     },
     "execution_count": 10,
     "metadata": {},
     "output_type": "execute_result"
    }
   ],
   "source": [
    "vector = torch.tensor([7,7])\n",
    "vector"
   ]
  },
  {
   "cell_type": "code",
   "execution_count": 12,
   "id": "217396b6",
   "metadata": {},
   "outputs": [
    {
     "data": {
      "text/plain": [
       "1"
      ]
     },
     "execution_count": 12,
     "metadata": {},
     "output_type": "execute_result"
    }
   ],
   "source": [
    "vector.ndim"
   ]
  },
  {
   "cell_type": "code",
   "execution_count": null,
   "id": "8137a87c",
   "metadata": {},
   "outputs": [
    {
     "ename": "RuntimeError",
     "evalue": "a Tensor with 2 elements cannot be converted to Scalar",
     "output_type": "error",
     "traceback": [
      "\u001b[1;31m---------------------------------------------------------------------------\u001b[0m",
      "\u001b[1;31mRuntimeError\u001b[0m                              Traceback (most recent call last)",
      "\u001b[1;32m~\\AppData\\Local\\Temp\\ipykernel_5500\\627286590.py\u001b[0m in \u001b[0;36m<module>\u001b[1;34m\u001b[0m\n\u001b[1;32m----> 1\u001b[1;33m \u001b[0mvector\u001b[0m\u001b[1;33m.\u001b[0m\u001b[0mitem\u001b[0m\u001b[1;33m(\u001b[0m\u001b[1;33m)\u001b[0m\u001b[1;33m\u001b[0m\u001b[1;33m\u001b[0m\u001b[0m\n\u001b[0m",
      "\u001b[1;31mRuntimeError\u001b[0m: a Tensor with 2 elements cannot be converted to Scalar"
     ]
    }
   ],
   "source": [
    "# 1개의 값만 있어야 Scalar로 변환 가능\n",
    "vector.item()"
   ]
  },
  {
   "cell_type": "code",
   "execution_count": 14,
   "id": "d74f6a04",
   "metadata": {},
   "outputs": [
    {
     "data": {
      "text/plain": [
       "tensor([[ 7,  8],\n",
       "        [ 9, 10]])"
      ]
     },
     "execution_count": 14,
     "metadata": {},
     "output_type": "execute_result"
    }
   ],
   "source": [
    "Matrix = torch.tensor([[7,8],\n",
    "                       [9,10]])\n",
    "Matrix"
   ]
  },
  {
   "cell_type": "code",
   "execution_count": 15,
   "id": "5418bee9",
   "metadata": {},
   "outputs": [
    {
     "data": {
      "text/plain": [
       "(2, torch.Size([2, 2]))"
      ]
     },
     "execution_count": 15,
     "metadata": {},
     "output_type": "execute_result"
    }
   ],
   "source": [
    "Matrix.ndim, Matrix.shape"
   ]
  },
  {
   "cell_type": "code",
   "execution_count": 16,
   "id": "92af8f79",
   "metadata": {},
   "outputs": [
    {
     "name": "stdout",
     "output_type": "stream",
     "text": [
      "tensor([[[ 1,  2,  3],\n",
      "         [ 3,  6,  9],\n",
      "         [ 2,  4,  6]],\n",
      "\n",
      "        [[ 2,  3,  4],\n",
      "         [ 5,  6,  7],\n",
      "         [ 8,  9, 10]]])\n",
      "\n",
      "torch.Size([2, 3, 3])\n"
     ]
    }
   ],
   "source": [
    "#Tensor\n",
    "\n",
    "TENSOR = torch.tensor([[[1,2,3],\n",
    "                        [3,6,9],\n",
    "                        [2,4,6]],\n",
    "                         [[2,3,4],\n",
    "                          [5,6,7],\n",
    "                          [8,9,10]]])\n",
    "print(f\"{TENSOR}\\n\")\n",
    "print(TENSOR.shape) # <- 3 * 3의 행렬이 2개 존재한다는 것"
   ]
  },
  {
   "cell_type": "markdown",
   "id": "c6d12d50",
   "metadata": {},
   "source": [
    "### 무작위 or 상수 값 사용\n",
    "\n",
    "- `torch.rand(shape)`: 무작위 값으로 구성된 shape 형태의 텐서\n",
    "- `torch.ones(shape)`: 1으로 구성된 shape 형태의 텐서 \n",
    "- `torch.zeros(shape)`: 0으로 구성된 shape 형태의 텐서 "
   ]
  },
  {
   "cell_type": "code",
   "execution_count": 4,
   "id": "12556ee2",
   "metadata": {},
   "outputs": [
    {
     "name": "stdout",
     "output_type": "stream",
     "text": [
      "Random Tensor: \n",
      " tensor([[0.3800, 0.0175, 0.6036],\n",
      "        [0.4505, 0.5148, 0.9076]]) \n",
      "\n",
      "Ones Tensor: \n",
      " tensor([[1., 1., 1.],\n",
      "        [1., 1., 1.]]) \n",
      "\n",
      "Zeros Tensor: \n",
      " tensor([[0., 0., 0.],\n",
      "        [0., 0., 0.]])\n"
     ]
    }
   ],
   "source": [
    "shape = (2,3,)\n",
    "\n",
    "rand_tensor = torch.rand(shape)\n",
    "ones_tensor = torch.ones(shape)\n",
    "zeros_tensor = torch.zeros(shape)\n",
    "\n",
    "print(f\"Random Tensor: \\n {rand_tensor} \\n\")\n",
    "print(f\"Ones Tensor: \\n {ones_tensor} \\n\")\n",
    "print(f\"Zeros Tensor: \\n {zeros_tensor}\")"
   ]
  },
  {
   "cell_type": "markdown",
   "id": "d7073401",
   "metadata": {},
   "source": [
    "- `torch.arange()`\n",
    "- `torch.empty()`: 초기화 되지 않은 쓰레기 값\n",
    "- `torch.zeros_like()`: 입력 받은 크기와 같은 크기의 행렬 생성\n",
    "- `torch.ones_like()`: "
   ]
  },
  {
   "cell_type": "code",
   "execution_count": 17,
   "id": "cb91b775",
   "metadata": {},
   "outputs": [
    {
     "data": {
      "text/plain": [
       "tensor([ 1,  2,  3,  4,  5,  6,  7,  8,  9, 10])"
      ]
     },
     "execution_count": 17,
     "metadata": {},
     "output_type": "execute_result"
    }
   ],
   "source": [
    "one_to_one = torch.arange(start = 1, end = 11, step = 1)\n",
    "one_to_one"
   ]
  },
  {
   "cell_type": "code",
   "execution_count": 18,
   "id": "bc3ee472",
   "metadata": {},
   "outputs": [
    {
     "data": {
      "text/plain": [
       "(tensor([[-6.2938e+06,  8.5339e-43,  0.0000e+00],\n",
       "         [ 0.0000e+00,  0.0000e+00,  0.0000e+00]]),\n",
       " torch.Size([2, 3]))"
      ]
     },
     "execution_count": 18,
     "metadata": {},
     "output_type": "execute_result"
    }
   ],
   "source": [
    "a = torch.empty(size = (2,3))\n",
    "a, a.shape"
   ]
  },
  {
   "cell_type": "code",
   "execution_count": 19,
   "id": "ff2f106d",
   "metadata": {},
   "outputs": [
    {
     "data": {
      "text/plain": [
       "(tensor([[0., 0., 0.],\n",
       "         [0., 0., 0.]]),\n",
       " torch.Size([2, 3]))"
      ]
     },
     "execution_count": 19,
     "metadata": {},
     "output_type": "execute_result"
    }
   ],
   "source": [
    "b = torch.zeros_like(input = a)\n",
    "b, b.shape"
   ]
  },
  {
   "cell_type": "markdown",
   "id": "f95b95b9",
   "metadata": {},
   "source": [
    "### 텐서 데이터타입\n",
    "- 텐서의 **데이터 타입** 이 다르면 error \n",
    "- 텐서의 **shape** 이 다르면 error\n",
    "- 동일한 **장치** 에 존재하지 않으면 error"
   ]
  },
  {
   "cell_type": "code",
   "execution_count": 21,
   "id": "e13b9e64",
   "metadata": {},
   "outputs": [
    {
     "data": {
      "text/plain": [
       "(tensor([3., 6., 9.]), torch.float32)"
      ]
     },
     "execution_count": 21,
     "metadata": {},
     "output_type": "execute_result"
    }
   ],
   "source": [
    "float_32_tensor = torch.tensor([3., 6., 9. ],\n",
    "                               dtype = None,\n",
    "                               device = None,\n",
    "                               requires_grad = False)\n",
    "float_32_tensor, float_32_tensor.dtype"
   ]
  },
  {
   "cell_type": "code",
   "execution_count": 22,
   "id": "ac542c3a",
   "metadata": {},
   "outputs": [
    {
     "data": {
      "text/plain": [
       "(tensor([3., 6., 9.], dtype=torch.float16), torch.float16)"
      ]
     },
     "execution_count": 22,
     "metadata": {},
     "output_type": "execute_result"
    }
   ],
   "source": [
    "float_16_tensor = float_32_tensor.type(torch.float16)\n",
    "float_16_tensor, float_16_tensor.dtype"
   ]
  },
  {
   "cell_type": "code",
   "execution_count": null,
   "id": "dab0317e",
   "metadata": {},
   "outputs": [
    {
     "data": {
      "text/plain": [
       "tensor([ 6., 12., 18.])"
      ]
     },
     "execution_count": 23,
     "metadata": {},
     "output_type": "execute_result"
    }
   ],
   "source": [
    "# 이 경우엔 형변환이 된 후라서 계산 오류 X \n",
    "float_32_tensor + float_16_tensor"
   ]
  },
  {
   "cell_type": "code",
   "execution_count": 24,
   "id": "7f47e030",
   "metadata": {},
   "outputs": [
    {
     "name": "stdout",
     "output_type": "stream",
     "text": [
      "tensor([ 4.,  8., 12.], dtype=torch.float16)\n",
      "torch.float32\n"
     ]
    }
   ],
   "source": [
    "## 자동 형변환, 데이터를 더 잘 표현할 수 있는 타입으로 변경\n",
    "float_64_tensor = torch.tensor([1.0,2.0,3.0],\n",
    "                               dtype = torch.float64,\n",
    "                               device = None,\n",
    "                               requires_grad = False)\n",
    "\n",
    "## 명시적으로 형변환 해주는게 좋음\n",
    "float_64_tensor = float_64_tensor.to(dtype = torch.float16)\n",
    "float_32_tensor = float_64_tensor.to(dtype = torch.float32)\n",
    "\n",
    "result = float_64_tensor + float_16_tensor\n",
    "print(result)\n",
    "print(float_32_tensor.dtype)\n",
    "\n",
    "## 큰 신경망에서는 오류가 발생할 수 있음"
   ]
  },
  {
   "cell_type": "markdown",
   "id": "d5e01daf",
   "metadata": {},
   "source": [
    "### 텐서 계산\n",
    "\n",
    "- `torch.cat()`: 시퀀스를 주어진 차원을 따라 연결\n",
    "- `torch.tensor.T`: 텐서를 전치(Transpose)\n",
    "- `torch.matmul()`과 `torch.tensor.mul(torch.tensor)`: 내적"
   ]
  },
  {
   "cell_type": "code",
   "execution_count": 26,
   "id": "e44d2123",
   "metadata": {},
   "outputs": [
    {
     "data": {
      "text/plain": [
       "tensor([101, 102, 103])"
      ]
     },
     "execution_count": 26,
     "metadata": {},
     "output_type": "execute_result"
    }
   ],
   "source": [
    "tensor = torch.tensor([1,2,3])\n",
    "tensor + 100"
   ]
  },
  {
   "cell_type": "code",
   "execution_count": 27,
   "id": "c72e4f88",
   "metadata": {},
   "outputs": [
    {
     "data": {
      "text/plain": [
       "tensor([10, 20, 30])"
      ]
     },
     "execution_count": 27,
     "metadata": {},
     "output_type": "execute_result"
    }
   ],
   "source": [
    "tensor * 10"
   ]
  },
  {
   "cell_type": "code",
   "execution_count": 28,
   "id": "0e034e62",
   "metadata": {},
   "outputs": [
    {
     "name": "stdout",
     "output_type": "stream",
     "text": [
      "First row: tensor([1., 1., 1., 1.])\n",
      "First column: tensor([1., 1., 1., 1.])\n",
      "Last column: tensor([1., 1., 1., 1.])\n",
      "tensor([[1., 0., 1., 1.],\n",
      "        [1., 0., 1., 1.],\n",
      "        [1., 0., 1., 1.],\n",
      "        [1., 0., 1., 1.]])\n"
     ]
    }
   ],
   "source": [
    "## 슬라이싱\n",
    "\n",
    "tensor = torch.ones(4,4) # 텐서 생성\n",
    "\n",
    "print(f\"First row: {tensor[0]}\")\n",
    "print(f\"First column: {tensor[:, 0]}\")\n",
    "print(f\"Last column: {tensor[:,-1]}\")\n",
    "\n",
    "tensor[:,1] = 0\n",
    "print(tensor)"
   ]
  },
  {
   "cell_type": "code",
   "execution_count": 29,
   "id": "512ebf55",
   "metadata": {},
   "outputs": [
    {
     "name": "stdout",
     "output_type": "stream",
     "text": [
      "tensor([[1., 0., 1., 1., 1., 0., 1., 1., 1., 0., 1., 1.],\n",
      "        [1., 0., 1., 1., 1., 0., 1., 1., 1., 0., 1., 1.],\n",
      "        [1., 0., 1., 1., 1., 0., 1., 1., 1., 0., 1., 1.],\n",
      "        [1., 0., 1., 1., 1., 0., 1., 1., 1., 0., 1., 1.]])\n"
     ]
    }
   ],
   "source": [
    "## 텐서 결합 텐서 시퀀스\n",
    "\n",
    "t1 = torch.cat([tensor, tensor, tensor], dim = 1)\n",
    "print(t1)"
   ]
  },
  {
   "cell_type": "code",
   "execution_count": 30,
   "id": "c669fd20",
   "metadata": {},
   "outputs": [
    {
     "name": "stdout",
     "output_type": "stream",
     "text": [
      "tensor: tensor([[1., 0., 1., 1.],\n",
      "        [1., 0., 1., 1.],\n",
      "        [1., 0., 1., 1.],\n",
      "        [1., 0., 1., 1.]])\n",
      "==============================\n",
      "tensor.T: tensor([[1., 1., 1., 1.],\n",
      "        [0., 0., 0., 0.],\n",
      "        [1., 1., 1., 1.],\n",
      "        [1., 1., 1., 1.]])\n",
      "==============================\n",
      "tensor([[3., 3., 3., 3.],\n",
      "        [3., 3., 3., 3.],\n",
      "        [3., 3., 3., 3.],\n",
      "        [3., 3., 3., 3.]])\n",
      "==============================\n",
      "tensor([[3., 3., 3., 3.],\n",
      "        [3., 3., 3., 3.],\n",
      "        [3., 3., 3., 3.],\n",
      "        [3., 3., 3., 3.]])\n"
     ]
    }
   ],
   "source": [
    "print(f\"tensor: {tensor}\")\n",
    "print(\"=\" * 30)\n",
    "print(f\"tensor.T: {tensor.T}\")\n",
    "print(\"=\" * 30)\n",
    "\n",
    "y1 = tensor @ tensor.T\n",
    "y2 = tensor.matmul(tensor.T)\n",
    "\n",
    "print(y1)\n",
    "print(\"=\" * 30)\n",
    "print(y2)"
   ]
  },
  {
   "cell_type": "code",
   "execution_count": 31,
   "id": "0ba0b9e3",
   "metadata": {},
   "outputs": [
    {
     "data": {
      "text/plain": [
       "tensor([ 0, 10, 20, 30, 40, 50, 60, 70, 80, 90])"
      ]
     },
     "execution_count": 31,
     "metadata": {},
     "output_type": "execute_result"
    }
   ],
   "source": [
    "x = torch.arange(0, 100, 10)\n",
    "x"
   ]
  },
  {
   "cell_type": "code",
   "execution_count": 32,
   "id": "015dda97",
   "metadata": {},
   "outputs": [
    {
     "data": {
      "text/plain": [
       "(tensor(0), tensor(0))"
      ]
     },
     "execution_count": 32,
     "metadata": {},
     "output_type": "execute_result"
    }
   ],
   "source": [
    "torch.min(x), x.min()"
   ]
  },
  {
   "cell_type": "code",
   "execution_count": 33,
   "id": "82eb7941",
   "metadata": {},
   "outputs": [
    {
     "data": {
      "text/plain": [
       "(tensor(90), tensor(90))"
      ]
     },
     "execution_count": 33,
     "metadata": {},
     "output_type": "execute_result"
    }
   ],
   "source": [
    "torch.max(x), x.max()"
   ]
  },
  {
   "cell_type": "code",
   "execution_count": 34,
   "id": "6e1d8661",
   "metadata": {},
   "outputs": [
    {
     "data": {
      "text/plain": [
       "tensor(45.)"
      ]
     },
     "execution_count": 34,
     "metadata": {},
     "output_type": "execute_result"
    }
   ],
   "source": [
    "x = x.type(dtype = torch.float32)\n",
    "torch.mean(x)"
   ]
  },
  {
   "cell_type": "code",
   "execution_count": 35,
   "id": "86e08425",
   "metadata": {},
   "outputs": [
    {
     "data": {
      "text/plain": [
       "(tensor(9), tensor(9))"
      ]
     },
     "execution_count": 35,
     "metadata": {},
     "output_type": "execute_result"
    }
   ],
   "source": [
    "torch.argmax(x), x.argmax()"
   ]
  },
  {
   "cell_type": "code",
   "execution_count": 36,
   "id": "d865343c",
   "metadata": {},
   "outputs": [
    {
     "data": {
      "text/plain": [
       "(tensor(450.), tensor(450.))"
      ]
     },
     "execution_count": 36,
     "metadata": {},
     "output_type": "execute_result"
    }
   ],
   "source": [
    "torch.sum(x), x.sum()"
   ]
  },
  {
   "cell_type": "markdown",
   "id": "4035b2bb",
   "metadata": {},
   "source": [
    "### PyTorch와 NumPy 상호 변환\n",
    "- `torch.tensor.numpy()`: 텐서를 NumPy 배열로 변환\n",
    "- `torch.from_numpy(ndarray)`: NumPy 배열을 텐서로 변환"
   ]
  },
  {
   "cell_type": "code",
   "execution_count": 14,
   "id": "0ce33a61",
   "metadata": {},
   "outputs": [
    {
     "name": "stdout",
     "output_type": "stream",
     "text": [
      "t: tensor([1., 1., 1., 1., 1.])\n",
      "n: [1. 1. 1. 1. 1.]\n"
     ]
    }
   ],
   "source": [
    "t = torch.ones(5)\n",
    "print(f\"t: {t}\")\n",
    "\n",
    "n = t.numpy()\n",
    "print(f\"n: {n}\")"
   ]
  },
  {
   "cell_type": "code",
   "execution_count": 17,
   "id": "a733c633",
   "metadata": {},
   "outputs": [
    {
     "data": {
      "text/plain": [
       "tensor([1., 1., 1., 1., 1.], dtype=torch.float64)"
      ]
     },
     "execution_count": 17,
     "metadata": {},
     "output_type": "execute_result"
    }
   ],
   "source": [
    "n = np.ones(5)\n",
    "t = torch.from_numpy(n)\n",
    "t"
   ]
  },
  {
   "cell_type": "code",
   "execution_count": null,
   "id": "c9b5aa29",
   "metadata": {},
   "outputs": [],
   "source": []
  }
 ],
 "metadata": {
  "kernelspec": {
   "display_name": "torch20210854",
   "language": "python",
   "name": "python3"
  },
  "language_info": {
   "codemirror_mode": {
    "name": "ipython",
    "version": 3
   },
   "file_extension": ".py",
   "mimetype": "text/x-python",
   "name": "python",
   "nbconvert_exporter": "python",
   "pygments_lexer": "ipython3",
   "version": "3.9.21"
  }
 },
 "nbformat": 4,
 "nbformat_minor": 5
}
