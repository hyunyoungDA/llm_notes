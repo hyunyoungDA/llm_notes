{
 "cells": [
  {
   "cell_type": "markdown",
   "id": "12d1f001",
   "metadata": {},
   "source": [
    "## Chroma\n",
    "\n",
    "Chroma는 개발자의 생산성과 해복에 초점을 맞춘 AI Native Open source VectorDB이다. "
   ]
  },
  {
   "cell_type": "code",
   "execution_count": 4,
   "id": "cb90267f",
   "metadata": {},
   "outputs": [
    {
     "data": {
      "text/plain": [
       "(0, 0)"
      ]
     },
     "execution_count": 4,
     "metadata": {},
     "output_type": "execute_result"
    }
   ],
   "source": [
    "from langchain_community.document_loaders import TextLoader\n",
    "from langchain_openai.embeddings import OpenAIEmbeddings\n",
    "from langchain_text_splitters import RecursiveCharacterTextSplitter\n",
    "from langchain_community.vectorstores import Chroma \n",
    "\n",
    "text_splitter = RecursiveCharacterTextSplitter(\n",
    "    chunk_size = 200, chunk_overlap = 0\n",
    ")\n",
    "\n",
    "# 텍스트 파일을 load -> List[Document] 형태로 변환\n",
    "loader1 = TextLoader(\"data/nlp-keywords.txt\")\n",
    "loader2 = TextLoader(\"data/finance-keywords.txt\")\n",
    "\n",
    "split_docs1 = loader1.load_and_split(text_splitter)\n",
    "split_docs2 = loader2.load_and_split(text_splitter)\n",
    "\n",
    "len(split_docs1), len(split_docs2)"
   ]
  },
  {
   "cell_type": "markdown",
   "id": "6052fdde",
   "metadata": {},
   "source": [
    "## VectorStore\n",
    "- `from_documents` 클래스 메서드로 문서 리스트로부터 벡터 저장소 생성\n",
    "- `from_texts` 클래스 메서드는 텍스트 리스트로부터 벡터 저장소 생성 "
   ]
  },
  {
   "cell_type": "code",
   "execution_count": null,
   "id": "be0a0087",
   "metadata": {},
   "outputs": [],
   "source": []
  }
 ],
 "metadata": {
  "kernelspec": {
   "display_name": "ragenv",
   "language": "python",
   "name": "python3"
  },
  "language_info": {
   "codemirror_mode": {
    "name": "ipython",
    "version": 3
   },
   "file_extension": ".py",
   "mimetype": "text/x-python",
   "name": "python",
   "nbconvert_exporter": "python",
   "pygments_lexer": "ipython3",
   "version": "3.10.16"
  }
 },
 "nbformat": 4,
 "nbformat_minor": 5
}
